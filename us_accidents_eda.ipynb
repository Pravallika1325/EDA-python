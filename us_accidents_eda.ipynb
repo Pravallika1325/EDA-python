{
 "cells": [
  {
   "cell_type": "markdown",
   "id": "0d9431f3-e44d-4741-8eef-32f53e76ba73",
   "metadata": {},
   "source": [
    "# US Accidents - Exploratory Data Analysis"
   ]
  },
  {
   "cell_type": "markdown",
   "id": "926de210-19e1-4c9e-a562-7184ff109154",
   "metadata": {},
   "source": [
    "## Import essential libraries"
   ]
  },
  {
   "cell_type": "code",
   "execution_count": null,
   "id": "4ef24fed-0f07-41a6-a952-fec6abf8db1b",
   "metadata": {},
   "outputs": [],
   "source": [
    "import numpy as np\n",
    "import pandas as pd\n",
    "import seaborn as sns\n",
    "import matplotlib.pyplot as plt\n",
    "import folium"
   ]
  },
  {
   "cell_type": "markdown",
   "id": "6bd252b4-6daf-4716-8be9-8413771320da",
   "metadata": {},
   "source": [
    "## Data Preparation and Cleaning"
   ]
  },
  {
   "cell_type": "markdown",
   "id": "8e41d7b3-8da3-4eb6-8974-ea345cbfbd9c",
   "metadata": {},
   "source": [
    "### Loading File Using Pandas"
   ]
  },
  {
   "cell_type": "code",
   "execution_count": null,
   "id": "671eaf02-676b-414d-8bf5-707240d5751e",
   "metadata": {},
   "outputs": [],
   "source": [
    "df = pd.read_csv('us_accidents.csv')"
   ]
  },
  {
   "cell_type": "code",
   "execution_count": null,
   "id": "e40ba1b7-3a4e-4ab6-b646-6c8d85914f78",
   "metadata": {},
   "outputs": [],
   "source": [
    "df.head()"
   ]
  },
  {
   "cell_type": "markdown",
   "id": "25f453a9-c0c3-4c26-8d70-d4873c75b5c3",
   "metadata": {},
   "source": [
    "### Look at some basic information about the data & the columns"
   ]
  },
  {
   "cell_type": "code",
   "execution_count": null,
   "id": "e9fd4429-959b-417f-9081-665acbb589d2",
   "metadata": {},
   "outputs": [],
   "source": [
    "df.columns"
   ]
  },
  {
   "cell_type": "code",
   "execution_count": null,
   "id": "caef4983-3ca1-403a-8f42-1ec0a2474dbb",
   "metadata": {},
   "outputs": [],
   "source": [
    "len(df.columns)"
   ]
  },
  {
   "cell_type": "code",
   "execution_count": null,
   "id": "0349a204-9f34-4f59-aed9-f9f82620fa70",
   "metadata": {},
   "outputs": [],
   "source": [
    "df.info()"
   ]
  },
  {
   "cell_type": "code",
   "execution_count": null,
   "id": "6954736a-3738-4377-a400-864ded89adda",
   "metadata": {},
   "outputs": [],
   "source": [
    "# describe() is used to get the total statistical analysis of all the columns; \n",
    "df.describe()"
   ]
  },
  {
   "cell_type": "code",
   "execution_count": null,
   "id": "6f79dc45-2b25-40da-865e-cc60c8d666b7",
   "metadata": {},
   "outputs": [],
   "source": [
    "# Checking the number of numerical columns present in our dataset\n",
    "numerics = ['int16' , 'int32' , 'int64', 'float16', 'float32', 'float64']\n",
    "\n",
    "numeric_df = df.select_dtypes(include = numerics)\n",
    "print(str(len(numeric_df.columns)) + ' numeric columns')\n",
    "print()\n",
    "numeric_df.columns"
   ]
  },
  {
   "cell_type": "markdown",
   "id": "7ab53a40-a267-4c29-8e67-4b28808f437a",
   "metadata": {},
   "source": [
    "### Fix Any Missing or Incorrect values"
   ]
  },
  {
   "cell_type": "code",
   "execution_count": null,
   "id": "253674c0-7ece-4d4e-b241-dd034d417148",
   "metadata": {},
   "outputs": [],
   "source": [
    "# missing values\n",
    "# total count of columns in the DataFrame df that have at least one missing value.\n",
    "df.isna().any().sum()"
   ]
  },
  {
   "cell_type": "code",
   "execution_count": null,
   "id": "debd2aff-2635-405d-b3b7-401c00785bea",
   "metadata": {},
   "outputs": [],
   "source": [
    "df.isna().sum().sort_values(ascending = False)"
   ]
  },
  {
   "cell_type": "code",
   "execution_count": null,
   "id": "82990d0e-98c7-4226-98b4-eab8f177380a",
   "metadata": {},
   "outputs": [],
   "source": [
    "# Top 10 clolumns with highest percentage of missing values;\n",
    "missing_percent = df.isna().sum().sort_values(ascending = False) / len(df) *100\n",
    "missing_percent[ : 10]"
   ]
  },
  {
   "cell_type": "code",
   "execution_count": null,
   "id": "098565c5-7d67-481f-85b3-44f7a6b45b16",
   "metadata": {},
   "outputs": [],
   "source": [
    "sns.set_style('whitegrid')\n",
    "missing_percent[missing_percent != 0].plot(kind = 'barh' , figsize = (8,6))\n",
    "plt.title(\"Missing values percentage of top 10 columns\")"
   ]
  },
  {
   "cell_type": "code",
   "execution_count": null,
   "id": "2e3c3ed3-25d4-4843-8fce-a95d89eceb32",
   "metadata": {},
   "outputs": [],
   "source": [
    "# Remove columns that have more than 50 percentage of missing values or that are not used for analysis;"
   ]
  },
  {
   "cell_type": "code",
   "execution_count": null,
   "id": "2ef05cd8-e5a5-4639-99b2-3390998c4028",
   "metadata": {},
   "outputs": [],
   "source": [
    "df.drop(columns = ['End_Lng' , 'End_Lat'] , axis = 1 , inplace = True)"
   ]
  },
  {
   "cell_type": "code",
   "execution_count": null,
   "id": "8b0ac843-c8a2-4f7c-bf88-243be4c2b679",
   "metadata": {},
   "outputs": [],
   "source": [
    "df.columns"
   ]
  },
  {
   "cell_type": "markdown",
   "id": "4df1eb8d-2ad0-45ba-a3f5-eeaedcbc54c3",
   "metadata": {},
   "source": [
    "### Now impute the missing values"
   ]
  },
  {
   "cell_type": "markdown",
   "id": "2968b738-0dce-4e5c-8142-301568ff3380",
   "metadata": {},
   "source": [
    "To handle missing data or null values in numerical columns of a dataset, they are filled with appropriate replacement values.\n",
    "Missing values of numerical columns can be filled by mean or median."
   ]
  },
  {
   "cell_type": "code",
   "execution_count": null,
   "id": "cb4358d5-b721-4be5-8c65-3af17dcaa483",
   "metadata": {},
   "outputs": [],
   "source": [
    "# Impute missing values for necessary numerical columns: \n",
    "df[\"Temperature(F)\"] = df[\"Temperature(F)\"].fillna(df[\"Temperature(F)\"].median())\n",
    "df[\"Humidity(%)\"]=df[\"Humidity(%)\"].fillna(df[\"Humidity(%)\"].median())"
   ]
  },
  {
   "cell_type": "raw",
   "id": "519c9dfa-48de-4f52-9a25-5f8344dc53c8",
   "metadata": {},
   "source": [
    "Missing data of categorical columns can be filled by using mode of that column."
   ]
  },
  {
   "cell_type": "code",
   "execution_count": null,
   "id": "56602299-ca9c-4bc6-9fa6-e61eae989e33",
   "metadata": {},
   "outputs": [],
   "source": [
    "# Impute missing values for categorical data:\n",
    "df[\"Weather_Condition\"]=df[\"Weather_Condition\"].fillna(df[\"Weather_Condition\"].mode()[0])"
   ]
  },
  {
   "cell_type": "code",
   "execution_count": null,
   "id": "d9727c6c-af77-4af5-b606-ac716f1b1f31",
   "metadata": {},
   "outputs": [],
   "source": [
    "# Now our data is clean;"
   ]
  },
  {
   "cell_type": "markdown",
   "id": "c1adeed6-829d-4f6b-9c90-5e4826d159b1",
   "metadata": {},
   "source": [
    "## Exploratory Analysis And Visualization"
   ]
  },
  {
   "cell_type": "markdown",
   "id": "98a5afbc-0ca5-4be1-bcde-25e3f656b856",
   "metadata": {},
   "source": [
    "#### Columns to be analysed:\n",
    "#### City\n",
    "#### Start_Time \n",
    "#### Start_Lat and Start_Lng\n",
    "#### Temperature\n",
    "#### Weather_Condition and severity"
   ]
  },
  {
   "cell_type": "markdown",
   "id": "ef7d8165-ac56-4437-b66e-93384c83e29f",
   "metadata": {},
   "source": [
    "### City"
   ]
  },
  {
   "cell_type": "code",
   "execution_count": null,
   "id": "8c44caea-d9e9-4ea1-b7d5-41c5e29bcfd6",
   "metadata": {},
   "outputs": [],
   "source": [
    "cities = len(df['City'].unique())"
   ]
  },
  {
   "cell_type": "code",
   "execution_count": null,
   "id": "2a7854e5-a601-49e2-906c-aca89be4923f",
   "metadata": {},
   "outputs": [],
   "source": [
    "print(f'There are total of {cities} number of cities.')"
   ]
  },
  {
   "cell_type": "code",
   "execution_count": null,
   "id": "f08d1a60-3c5c-4d80-a313-bd6a9854640d",
   "metadata": {},
   "outputs": [],
   "source": [
    "# Lets check the cities by accidents\n",
    "cities_by_accidents = df['City'].value_counts()"
   ]
  },
  {
   "cell_type": "code",
   "execution_count": null,
   "id": "7f5b9344-3abe-477d-a587-5e8f2f00d616",
   "metadata": {},
   "outputs": [],
   "source": [
    "cities_by_accidents_20 = cities_by_accidents[ : 20]"
   ]
  },
  {
   "cell_type": "code",
   "execution_count": null,
   "id": "3977c440-bdff-4106-9b93-abcade681707",
   "metadata": {},
   "outputs": [],
   "source": [
    "cities_by_accidents_20.plot(kind = 'barh' , figsize = (8,6))\n",
    "plt.title(\"TOP 20 CITIES WITH HIGHEST NUMBER OF ACCIDENTS\")"
   ]
  },
  {
   "cell_type": "code",
   "execution_count": null,
   "id": "777e1468-4326-4322-8703-e53c81687bca",
   "metadata": {},
   "outputs": [],
   "source": [
    "# Lets find out the cities with highest and lowest number of accidents"
   ]
  },
  {
   "cell_type": "code",
   "execution_count": null,
   "id": "3838ebfd-4042-4dc3-969c-dd3a14c1ec81",
   "metadata": {},
   "outputs": [],
   "source": [
    "high_accident_cities = cities_by_accidents[cities_by_accidents > 1000]\n",
    "low_accident_cities = cities_by_accidents[cities_by_accidents < 1000]"
   ]
  },
  {
   "cell_type": "code",
   "execution_count": null,
   "id": "b0d036ba-17cc-45a2-a17d-805bd96ff62e",
   "metadata": {},
   "outputs": [],
   "source": [
    "print(\"Number of cities with more than 1000 accidents: \" + str(len(high_accident_cities)))\n",
    "print('percentage :' + str(len(high_accident_cities) / cities * 100))"
   ]
  },
  {
   "cell_type": "code",
   "execution_count": null,
   "id": "675e3de8-1353-4cf7-9727-c99359b81398",
   "metadata": {},
   "outputs": [],
   "source": [
    "sns.histplot(high_accident_cities , kde = True , bins = 5 )\n",
    "plt.title('Cities with more than 1000 accidents')"
   ]
  },
  {
   "cell_type": "code",
   "execution_count": null,
   "id": "46bfdfe5-37b1-476f-a059-42ce9679182f",
   "metadata": {},
   "outputs": [],
   "source": [
    "print(\"Number of cities with less than 1000 accidents: \"+ str(len(low_accident_cities)))"
   ]
  },
  {
   "cell_type": "code",
   "execution_count": null,
   "id": "ac455d67-9126-4a08-bf81-5ef227e33e02",
   "metadata": {},
   "outputs": [],
   "source": [
    "# percentage of lowest accident cities\n",
    "print('Percentage: '+str(len(low_accident_cities) / cities * 100))"
   ]
  },
  {
   "cell_type": "code",
   "execution_count": null,
   "id": "1283e590-8086-4c7d-b961-89e1e8806771",
   "metadata": {},
   "outputs": [],
   "source": [
    "sns.displot(low_accident_cities, kde = True , bins = 3)\n",
    "plt.title(\"Cities with less than 1000 accidents\")"
   ]
  },
  {
   "cell_type": "code",
   "execution_count": null,
   "id": "f06b829d-9881-40f7-895c-977d895c84cd",
   "metadata": {},
   "outputs": [],
   "source": [
    "# Cities with one number of accidents;\n",
    "cities_by_accidents[cities_by_accidents == 1].sum()"
   ]
  },
  {
   "cell_type": "markdown",
   "id": "7be0a1e5-55a4-4bcc-9544-cd2065df1cc0",
   "metadata": {},
   "source": [
    "### Summary:"
   ]
  },
  {
   "cell_type": "markdown",
   "id": "1213421f-b663-45dd-b0dd-fbe2f3295d6b",
   "metadata": {},
   "source": [
    "#### Number of accidents per city decreases exponentially.\n",
    "#### Less than five percent of cities have more than 1000 accidents.\n",
    "#### Less tham 1000 accidents are recorded for 95% of cities.\n",
    "#### It seems like over 1500 cities reported only one accident."
   ]
  },
  {
   "cell_type": "markdown",
   "id": "a63f3d5d-bf62-4621-843f-82fe8b81f03f",
   "metadata": {},
   "source": [
    "### Start time"
   ]
  },
  {
   "cell_type": "code",
   "execution_count": null,
   "id": "e3b4a5a6-5bf2-44da-b47b-eaabbe103cfe",
   "metadata": {},
   "outputs": [],
   "source": [
    "# Lets analyse start_time column;\n",
    "df['Start_Time']"
   ]
  },
  {
   "cell_type": "code",
   "execution_count": null,
   "id": "0d771723-4fdd-44bc-9925-b23eb133f017",
   "metadata": {},
   "outputs": [],
   "source": [
    "# start_time column is in string form. \n",
    "# converting this column into date datatype;\n",
    "df['Start_Time'] = pd.to_datetime(df['Start_Time'])"
   ]
  },
  {
   "cell_type": "code",
   "execution_count": null,
   "id": "a85ac479-fbd9-4972-ac4d-5ec7edae2d63",
   "metadata": {},
   "outputs": [],
   "source": [
    "df['Start_Time'][0] # Now it is in date form"
   ]
  },
  {
   "cell_type": "code",
   "execution_count": null,
   "id": "341465f2-47ec-4d8f-bad3-c67a7a183773",
   "metadata": {},
   "outputs": [],
   "source": [
    "# Lets check at what time of the day there is high percentage of accidents\n",
    "sns.set_style('whitegrid')\n",
    "sns.histplot(df['Start_Time'].dt.hour , bins = 24 , kde = False)"
   ]
  },
  {
   "cell_type": "code",
   "execution_count": null,
   "id": "a60d48ba-1500-47b2-9b94-1f8dda6d1071",
   "metadata": {},
   "outputs": [],
   "source": [
    "# check for trend of accidents in weak\n",
    "sns.histplot(df['Start_Time'].dt.dayofweek , bins = 7)\n",
    "plt.xlabel(\"Day of week\")"
   ]
  },
  {
   "cell_type": "code",
   "execution_count": null,
   "id": "93494894-8c84-4f81-ac50-67f8ce8aa952",
   "metadata": {},
   "outputs": [],
   "source": [
    "# lets analyse whether accidents are more prone between 6AM and 10AM on weekends also;\n",
    "\n",
    "weekend_starttime = df[(df['Start_Time'].dt.dayofweek == 5) | (df['Start_Time'].dt.dayofweek == 6)]"
   ]
  },
  {
   "cell_type": "code",
   "execution_count": null,
   "id": "ea05cbf9-9bc5-49ff-8398-70dfc83c5f9e",
   "metadata": {},
   "outputs": [],
   "source": [
    "sns.histplot(weekend_starttime['Start_Time'].dt.hour , bins = 24)"
   ]
  },
  {
   "cell_type": "code",
   "execution_count": null,
   "id": "ebfe1e39-d246-438a-9400-6ca016e8b64a",
   "metadata": {},
   "outputs": [],
   "source": [
    "# check trend of accidents in month;\n",
    "sns.histplot(df['Start_Time'].dt.month , bins = 12)"
   ]
  },
  {
   "cell_type": "code",
   "execution_count": null,
   "id": "032b9a28-e91b-455a-a2ad-5798d67bc34c",
   "metadata": {},
   "outputs": [],
   "source": [
    "# Now we will interpret accident rates in every month for each year:"
   ]
  },
  {
   "cell_type": "code",
   "execution_count": null,
   "id": "55968551-6c3b-4b1a-aeb0-857736e59b66",
   "metadata": {},
   "outputs": [],
   "source": [
    "df['Month'] = df['Start_Time'].dt.month\n",
    "df['Year'] = df['Start_Time'].dt.year\n",
    "monthly_accidents=df[[\"Month\",\"Year\"]].value_counts().reset_index()\n",
    "monthly_accidents.columns=[\"month\",\"year\",\"number_of_accidents\"]"
   ]
  },
  {
   "cell_type": "code",
   "execution_count": null,
   "id": "c9460c82-df97-4995-ad4d-7acc5c9ee558",
   "metadata": {},
   "outputs": [],
   "source": [
    "plt.figure(figsize=(15,8))\n",
    "sns.barplot(x=\"month\",y=\"number_of_accidents\",hue=\"year\",data=monthly_accidents)"
   ]
  },
  {
   "cell_type": "markdown",
   "id": "e3564259-6dc6-4bb1-bd8e-c36286292793",
   "metadata": {},
   "source": [
    "### Summary"
   ]
  },
  {
   "cell_type": "markdown",
   "id": "06635646-e162-420b-ba28-9fd90b9a93ed",
   "metadata": {},
   "source": [
    "#### Most of the accidents are occured between 7AM to 10AM.\n",
    "#### On weekends it seems like accidents are less.\n",
    "#### unlike in week days, more accidents in weekends are occuring during afternoon between 11AM and 3PM.\n",
    "#### I think there is no particular trend in accidents by month in a year.\n",
    "#### MOre accidents are recorded in the years 2018 and 2019 in most of the months."
   ]
  },
  {
   "cell_type": "markdown",
   "id": "22c16a97-7a42-4b32-bf57-f14503cc32c7",
   "metadata": {},
   "source": [
    "### Start Latitude and Longitude"
   ]
  },
  {
   "cell_type": "code",
   "execution_count": null,
   "id": "51da0b91-47bd-4eee-a8f7-72e6154a95b5",
   "metadata": {},
   "outputs": [],
   "source": [
    "df[['Start_Lat' , 'Start_Lng']]"
   ]
  },
  {
   "cell_type": "code",
   "execution_count": null,
   "id": "7f401287-b151-4a03-9bb1-efb649781202",
   "metadata": {},
   "outputs": [],
   "source": [
    "sns.scatterplot(data = df , x = 'Start_Lng' , y = 'Start_Lat' , s = 5)"
   ]
  },
  {
   "cell_type": "raw",
   "id": "4876c314-8076-4898-83ef-a9d0d9b40e3b",
   "metadata": {},
   "source": [
    "Point one marker on plot"
   ]
  },
  {
   "cell_type": "code",
   "execution_count": null,
   "id": "c1443591-922f-4015-801c-43c188072b8f",
   "metadata": {},
   "outputs": [],
   "source": [
    "# Lets try to put it in a map\n",
    "import folium\n",
    "folium.Map() # it gives world map\n",
    "# lets plot one accident in map;\n",
    "lat, lng = df['Start_Lat'][0] , df['Start_Lat'][0]\n",
    "map = folium.Map()\n",
    "marker = folium.Marker((lat, lng))\n",
    "marker.add_to(map)\n",
    "map\n",
    "# Pointing one accident spot in map"
   ]
  },
  {
   "cell_type": "raw",
   "id": "0b526881-4ef7-499c-99dc-2ef5e138aef3",
   "metadata": {},
   "source": [
    "To point multiple markers on map:"
   ]
  },
  {
   "cell_type": "code",
   "execution_count": null,
   "id": "ef4bd762-770b-4df1-8eb8-163ca542086d",
   "metadata": {},
   "outputs": [],
   "source": [
    "# Only 0.001% of sample is taken to mark multiple points on map:\n",
    "sample_df1 = df.sample(int(0.0001 * len(df)))\n",
    "locations = sample_df1[['Start_Lng' , 'Start_Lat']]\n",
    "location_list = locations.values.tolist()"
   ]
  },
  {
   "cell_type": "code",
   "execution_count": null,
   "id": "8a0ad7c6-d2f7-448f-ae7d-80c079a68647",
   "metadata": {},
   "outputs": [],
   "source": [
    "len(location_list)"
   ]
  },
  {
   "cell_type": "code",
   "execution_count": null,
   "id": "e4520e24-0fdd-4677-916f-dff4101ff292",
   "metadata": {},
   "outputs": [],
   "source": [
    "map = folium.Map()\n",
    "for x in range(0, len(location_list)):\n",
    "    marker = folium.Marker(location_list[x])\n",
    "    marker.add_to(map)\n",
    "map"
   ]
  },
  {
   "cell_type": "markdown",
   "id": "336ac762-b5dc-4a4a-966c-55d1c21a893a",
   "metadata": {},
   "source": [
    "### Heatmap of areas where accidents have occured"
   ]
  },
  {
   "cell_type": "code",
   "execution_count": null,
   "id": "5338b43b-e643-471c-90fd-29fbb6f7ebae",
   "metadata": {},
   "outputs": [],
   "source": [
    "lat_lng = list(zip(list(df['Start_Lat']) , list(df['Start_Lng'])))"
   ]
  },
  {
   "cell_type": "code",
   "execution_count": null,
   "id": "25a79c85-df6d-4844-b3e5-2e29503d0698",
   "metadata": {},
   "outputs": [],
   "source": [
    "# Lets create a heatmap\n",
    "\n",
    "from folium.plugins import HeatMap\n",
    "\n",
    "map = folium.Map()\n",
    "marker = HeatMap(lat_lng).add_to(map)\n",
    "map"
   ]
  },
  {
   "cell_type": "code",
   "execution_count": null,
   "id": "9f228199-68ae-4db2-9831-86b4fb4674d5",
   "metadata": {},
   "outputs": [],
   "source": [
    "# Lets create heatmap for sample data"
   ]
  },
  {
   "cell_type": "code",
   "execution_count": null,
   "id": "ce74bb4b-2340-4cc1-a32f-ded2d9cb885d",
   "metadata": {},
   "outputs": [],
   "source": [
    "sample_df = df.sample(int(0.01 * len(df)))\n",
    "samp_lat_lng = list(zip(list(sample_df['Start_Lat']) , list(sample_df['Start_Lng'])))\n",
    "map = folium.Map()\n",
    "HeatMap(samp_lat_lng).add_to(map)\n",
    "map"
   ]
  },
  {
   "cell_type": "markdown",
   "id": "ccfa6feb-57bd-4922-943f-787161403001",
   "metadata": {},
   "source": [
    "### Severity"
   ]
  },
  {
   "cell_type": "code",
   "execution_count": null,
   "id": "f28f6e0b-b5f8-4a47-8b8e-67eca8b8fa5d",
   "metadata": {},
   "outputs": [],
   "source": [
    "df.columns"
   ]
  },
  {
   "cell_type": "code",
   "execution_count": null,
   "id": "f4a22792-ab89-498b-86e8-89dee712ca75",
   "metadata": {},
   "outputs": [],
   "source": [
    "df[['Severity', 'Year']]"
   ]
  },
  {
   "cell_type": "markdown",
   "id": "a38c2a67-ae1d-4d99-932d-703664121c16",
   "metadata": {},
   "source": [
    "#### Severity of accidents in each year"
   ]
  },
  {
   "cell_type": "code",
   "execution_count": null,
   "id": "fb3e0ad7-2f7a-469e-a970-63d64766a361",
   "metadata": {},
   "outputs": [],
   "source": [
    "pd.crosstab(df[\"Year\"],df[\"Severity\"]).plot(kind=\"bar\")"
   ]
  },
  {
   "cell_type": "markdown",
   "id": "b77213cb-9c87-4df7-876d-9791328ca130",
   "metadata": {},
   "source": [
    "### Summary:"
   ]
  },
  {
   "cell_type": "markdown",
   "id": "0627abb2-8795-4469-9dac-03a6dc67a9c7",
   "metadata": {},
   "source": [
    "#### It seems like the trend of severity level 2 is common in all the years"
   ]
  },
  {
   "cell_type": "markdown",
   "id": "c991fa23-cc97-48ce-b8e3-bacf7c9f2ef9",
   "metadata": {},
   "source": [
    "### Temperature"
   ]
  },
  {
   "cell_type": "code",
   "execution_count": null,
   "id": "da9f1b2d-0799-4efa-b631-c5e610fb6125",
   "metadata": {},
   "outputs": [],
   "source": [
    "df.columns"
   ]
  },
  {
   "cell_type": "code",
   "execution_count": null,
   "id": "35fc7141-a317-4e10-93e6-9034987fcbdb",
   "metadata": {},
   "outputs": [],
   "source": [
    "df['Temperature(F)'].value_counts()"
   ]
  },
  {
   "cell_type": "code",
   "execution_count": null,
   "id": "55e1af47-be3d-4717-b686-5c8265688f04",
   "metadata": {},
   "outputs": [],
   "source": [
    "sns.displot(df['Temperature(F)'] , bins = 5, kde = True)"
   ]
  },
  {
   "cell_type": "markdown",
   "id": "179483f4-0e6a-4e51-82e3-51f1d748d6da",
   "metadata": {},
   "source": [
    "### Summary:"
   ]
  },
  {
   "cell_type": "markdown",
   "id": "b5a26fd9-0906-47ff-b543-d15138ed3e28",
   "metadata": {},
   "source": [
    "#### More number of accidents occured in the temperatures between 30°F to 50°F."
   ]
  },
  {
   "cell_type": "markdown",
   "id": "7c93b4b5-6dd4-4123-8adf-59b55c3b974a",
   "metadata": {},
   "source": [
    "### Humidity"
   ]
  },
  {
   "cell_type": "code",
   "execution_count": null,
   "id": "acdc3c07-0369-4455-9511-2cbf653bb554",
   "metadata": {},
   "outputs": [],
   "source": [
    "sns.histplot(df['Humidity(%)'] , bins = 10)"
   ]
  },
  {
   "cell_type": "markdown",
   "id": "a14e2070-ef94-4d53-9bc7-c53e015c105d",
   "metadata": {},
   "source": [
    "### Summary:"
   ]
  },
  {
   "cell_type": "markdown",
   "id": "571dc440-a879-4ea4-9cb6-244799f507ca",
   "metadata": {},
   "source": [
    "#### There is increasing trend of accidents with increase in the percentage of humidity"
   ]
  },
  {
   "cell_type": "markdown",
   "id": "d4243819-16c0-4319-a07a-e25aad1fd069",
   "metadata": {},
   "source": [
    "### Weather condition"
   ]
  },
  {
   "cell_type": "code",
   "execution_count": null,
   "id": "eb6c8d18-3a4d-4ba5-a6fd-79399ef0959d",
   "metadata": {},
   "outputs": [],
   "source": [
    "df['Weather_Condition'].unique()"
   ]
  },
  {
   "cell_type": "code",
   "execution_count": null,
   "id": "ba709107-30e5-4108-98c0-fbbac362d619",
   "metadata": {},
   "outputs": [],
   "source": [
    "df['Weather_Condition']"
   ]
  },
  {
   "cell_type": "code",
   "execution_count": null,
   "id": "ff842942-922f-48f8-95cb-186390d17b52",
   "metadata": {},
   "outputs": [],
   "source": [
    "df['Weather_Condition'].value_counts().sort_values()"
   ]
  },
  {
   "cell_type": "raw",
   "id": "144de2a6-0671-467e-b919-f1c889682cf7",
   "metadata": {},
   "source": [
    "Let's take top 10 weather conditions during time of accident:"
   ]
  },
  {
   "cell_type": "code",
   "execution_count": null,
   "id": "eb89a6d5-860a-4981-8cd8-c811e83becfa",
   "metadata": {},
   "outputs": [],
   "source": [
    "df['Weather_Condition'].value_counts().sort_values(ascending = False)[:10]"
   ]
  },
  {
   "cell_type": "code",
   "execution_count": null,
   "id": "d3c3a0e7-ecfb-4aa9-856b-f1b1501f9e6f",
   "metadata": {},
   "outputs": [],
   "source": [
    "weather_top = df['Weather_Condition'].value_counts().sort_values(ascending = False)[:10]\n",
    "weather_top.plot(kind = 'barh')"
   ]
  },
  {
   "cell_type": "markdown",
   "id": "4d2e7a68-5c21-48a1-b780-f706cb0eb705",
   "metadata": {},
   "source": [
    "#### Analyse weather conditions along with the severity of accidents:"
   ]
  },
  {
   "cell_type": "code",
   "execution_count": null,
   "id": "7ed7b278-4ab1-46af-a2dd-5f8d4166d920",
   "metadata": {},
   "outputs": [],
   "source": [
    "df['Severity'].unique()"
   ]
  },
  {
   "cell_type": "code",
   "execution_count": null,
   "id": "37599c84-c267-4ccf-8875-860d60b19dc3",
   "metadata": {},
   "outputs": [],
   "source": [
    "df[['Weather_Condition' , 'Severity']].value_counts().sort_values(ascending = False)[:10]"
   ]
  },
  {
   "cell_type": "code",
   "execution_count": null,
   "id": "6ceee16a-f4b4-4be1-9ba0-3439d402db3b",
   "metadata": {},
   "outputs": [],
   "source": [
    "top_cond = df[['Weather_Condition' , 'Severity']].value_counts().sort_values(ascending = False)[:10]\n",
    "top_cond.plot(kind = 'barh', figsize = (10,6))\n",
    "plt.xlabel('number of accidents')\n",
    "plt.ylabel('Weather_condition with severity')"
   ]
  },
  {
   "cell_type": "markdown",
   "id": "152064a9-9179-4e9e-9562-787580465d95",
   "metadata": {},
   "source": [
    "### 10 of the main weather conditions for accidents at severity 1, 2, 3, 4"
   ]
  },
  {
   "cell_type": "code",
   "execution_count": null,
   "id": "4c81fe4e-3af7-4cd2-b899-558e044d5d52",
   "metadata": {},
   "outputs": [],
   "source": [
    "for x in range(1,5):\n",
    "    plt.subplots(figsize = (10,6))\n",
    "    severity =  df.loc[df['Severity'] == x , ['Weather_Condition']].value_counts().sort_values(ascending = False)[:10].reset_index()\n",
    "    severity.columns = ['Weather condition' , 'Number of accidents']\n",
    "    sns.barplot(y = severity['Weather condition'] , x = severity['Number of accidents'])\n",
    "    plt.ylabel('Weather Condition',fontsize=16)\n",
    "    plt.xlabel('Accident Count',fontsize=16)\n",
    "    plt.xticks(fontsize=16)\n",
    "    plt.yticks(fontsize=16)\n",
    "    plt.title('10 of The Main Weather Conditions for Accidents of Severity'+str(x))\n",
    "    plt.tight_layout()"
   ]
  },
  {
   "cell_type": "markdown",
   "id": "6cbd53e7-9797-4286-86a7-e34adbebd009",
   "metadata": {},
   "source": [
    "#### Summary"
   ]
  },
  {
   "cell_type": "markdown",
   "id": "abb3e82b-3d70-4430-8e1a-f05a08b46d5c",
   "metadata": {},
   "source": [
    "#### Most of the accidents have occured in fair weather conditions in all severity levels.\n",
    "#### The second most common weather condition is clear weather for severity 2 and 3, which is not the case with severity 1 and 4."
   ]
  }
 ],
 "metadata": {
  "kernelspec": {
   "display_name": "Python 3 (ipykernel)",
   "language": "python",
   "name": "python3"
  },
  "language_info": {
   "codemirror_mode": {
    "name": "ipython",
    "version": 3
   },
   "file_extension": ".py",
   "mimetype": "text/x-python",
   "name": "python",
   "nbconvert_exporter": "python",
   "pygments_lexer": "ipython3",
   "version": "3.10.12"
  }
 },
 "nbformat": 4,
 "nbformat_minor": 5
}
